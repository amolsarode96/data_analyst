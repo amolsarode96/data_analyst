{
 "cells": [
  {
   "cell_type": "code",
   "execution_count": 68,
   "id": "e1ce7852",
   "metadata": {},
   "outputs": [
    {
     "name": "stderr",
     "output_type": "stream",
     "text": [
      "[nltk_data] Downloading package punkt to\n",
      "[nltk_data]     C:\\Users\\Admin\\AppData\\Roaming\\nltk_data...\n",
      "[nltk_data]   Package punkt is already up-to-date!\n"
     ]
    },
    {
     "name": "stdout",
     "output_type": "stream",
     "text": [
      "       Keyword  Frequency\n",
      "stairs  stairs        192\n",
      "garden  garden         51\n",
      "level    level         25\n"
     ]
    }
   ],
   "source": [
    "import numpy as np\n",
    "import pandas as pd\n",
    "\n",
    "import nltk\n",
    "nltk.download('punkt')\n",
    "\n",
    "keywords_df = pd.read_csv('Keywords.csv')\n",
    "keywords_df\n",
    "\n",
    "messages_df = pd.read_csv('Messages.csv')\n",
    "messages_df\n",
    "\n",
    "# List of keywords\n",
    "keyword_list = keywords_df['keywords_list'].tolist()\n",
    "\n",
    "# Create a new column for each keyword and count its occurrences in each message\n",
    "for keyword in keyword_list:\n",
    "    messages_df[keyword] = messages_df['messages_list'].str.lower().str.contains(keyword.lower())\n",
    "\n",
    "# Create a summary dataframe with the total occurrences of each keyword\n",
    "summary_df = pd.DataFrame({\n",
    "    'Keyword': keyword_list,\n",
    "    'Frequency': messages_df[keyword_list].sum()\n",
    "})\n",
    "\n",
    "# Sort the summary dataframe by frequency in descending order\n",
    "summary_df = summary_df.sort_values(by='Frequency', ascending=False)\n",
    "\n",
    "# Identify keywords at ranks 1, 3, and 9\n",
    "selected_keywords = summary_df.iloc[[0, 2, 8]]\n",
    "\n",
    "# Print the selected keywords and their frequencies\n",
    "print(selected_keywords)\n",
    "\n",
    "# Save the summary dataframe to a CSV file\n",
    "# summary_df.to_csv('path/to/keyword_summary.csv', index=False)\n"
   ]
  }
 ],
 "metadata": {
  "kernelspec": {
   "display_name": "Python 3 (ipykernel)",
   "language": "python",
   "name": "python3"
  },
  "language_info": {
   "codemirror_mode": {
    "name": "ipython",
    "version": 3
   },
   "file_extension": ".py",
   "mimetype": "text/x-python",
   "name": "python",
   "nbconvert_exporter": "python",
   "pygments_lexer": "ipython3",
   "version": "3.9.13"
  }
 },
 "nbformat": 4,
 "nbformat_minor": 5
}
